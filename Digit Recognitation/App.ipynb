{
 "cells": [
  {
   "cell_type": "code",
   "execution_count": 38,
   "metadata": {},
   "outputs": [],
   "source": [
    "from tkinter import *\n",
    "import tkinter as tk\n",
    "from PIL import ImageGrab, Image\n",
    "import numpy as np\n",
    "import math\n",
    "import win32gui\n",
    "# custom built library\n",
    "import network2"
   ]
  },
  {
   "cell_type": "code",
   "execution_count": 49,
   "metadata": {},
   "outputs": [],
   "source": [
    "class App(tk.Tk):\n",
    "\n",
    "    def __init__(self):\n",
    "        tk.Tk.__init__(self)\n",
    "\n",
    "        self.canvas = tk.Canvas(self, width=300, height=300, bg = 'white', cursor = 'cross')\n",
    "        self.label = tk.Label(self, text = 'Draw a Number', font = ('Courier', 30, 'bold'))\n",
    "        self.classify_button = tk.Button(self, text = 'Recognize', command = self.recognize)\n",
    "        self.clear_button = tk.Button(self, text = 'Clear', command = self.clear_all)\n",
    "\n",
    "        #grip\n",
    "        self.canvas.grid(row = 0,column = 0 , pady = 2, sticky = W,)\n",
    "        self.label.grid(row = 0, column = 1, padx = 4, pady = 2)\n",
    "        self.clear_button.grid(row = 1, column = 0, padx = 2, pady = 2)\n",
    "        self.classify_button.grid(row = 1, column = 1, pady = 2)\n",
    "\n",
    "        self.canvas.bind(\"<B1-Motion>\", self.draw)\n",
    "\n",
    "    def recognize(self):\n",
    "        HWND = self.canvas.winfo_id()  # get the handle of the canvas\n",
    "        rect = win32gui.GetWindowRect(HWND)  # get the coordinate of the canvas\n",
    "        img = ImageGrab.grab(rect)  # get image of the current location\n",
    "        \n",
    "        #priction\n",
    "        digit, acc = predict(img)\n",
    "        print(acc)\n",
    "        self.label.configure(text= str(digit)+', '+ str(int(acc))+'%')\n",
    "\n",
    "    def clear_all(self):\n",
    "        self.canvas.delete('all')\n",
    "\n",
    "    def draw(self,event):\n",
    "        self.x = event.x\n",
    "        self.y = event.y\n",
    "        r = 8\n",
    "        self.canvas.create_oval(self.x-r, self.y-r, self.x+r,self.y+r, fill = 'black')\n"
   ]
  },
  {
   "cell_type": "code",
   "execution_count": 20,
   "metadata": {
    "tags": []
   },
   "outputs": [],
   "source": [
    "if __name__ == '__main__':\n",
    "    model = network2.load('model.h5')"
   ]
  },
  {
   "cell_type": "code",
   "execution_count": 50,
   "metadata": {},
   "outputs": [],
   "source": [
    "def predict(img):\n",
    "    #type(img) - PIL\n",
    "    \n",
    "    img = img.resize((28, 28))\n",
    "    img = img.convert('L') #convert rgb to grayscale\n",
    "    # convert the image into desired formate\n",
    "    # what is desired formate? - (784 , 1)\n",
    "    img = np.array(img)\n",
    "    img = img.reshape(784,1)\n",
    "    for i in img:\n",
    "        if i[0] > 252:\n",
    "            i[0] = 0\n",
    "    # give data to model and get prediction\n",
    "    prediction = model.feedforward(img)\n",
    "    digit = np.argmax(prediction)\n",
    "    acc = math.trunc(int(prediction[digit]*100))\n",
    "    # return predicted digit and accuracy\n",
    "    return digit,acc"
   ]
  },
  {
   "cell_type": "code",
   "execution_count": 51,
   "metadata": {
    "tags": []
   },
   "outputs": [
    {
     "output_type": "stream",
     "name": "stdout",
     "text": [
      "51\n",
      "16\n",
      "96\n",
      "94\n",
      "97\n",
      "78\n",
      "39\n",
      "63\n",
      "49\n",
      "96\n",
      "64\n",
      "30\n",
      "58\n",
      "19\n",
      "34\n",
      "29\n",
      "10\n",
      "43\n",
      "43\n",
      "43\n",
      "43\n",
      "43\n",
      "9\n",
      "90\n",
      "58\n",
      "4\n",
      "71\n",
      "92\n",
      "97\n",
      "47\n",
      "39\n",
      "21\n",
      "95\n",
      "9\n",
      "13\n",
      "96\n",
      "90\n",
      "17\n",
      "16\n",
      "40\n",
      "57\n",
      "54\n",
      "39\n",
      "58\n",
      "52\n",
      "24\n",
      "76\n",
      "27\n",
      "59\n",
      "45\n",
      "93\n",
      "24\n",
      "56\n",
      "77\n",
      "52\n",
      "79\n",
      "40\n",
      "94\n",
      "92\n",
      "21\n",
      "61\n",
      "32\n",
      "4\n",
      "29\n",
      "51\n"
     ]
    }
   ],
   "source": [
    "App()\n",
    "mainloop()"
   ]
  }
 ],
 "metadata": {
  "language_info": {
   "codemirror_mode": {
    "name": "ipython",
    "version": 3
   },
   "file_extension": ".py",
   "mimetype": "text/x-python",
   "name": "python",
   "nbconvert_exporter": "python",
   "pygments_lexer": "ipython3",
   "version": "3.8.3-final"
  },
  "orig_nbformat": 2,
  "kernelspec": {
   "name": "python3",
   "display_name": "Python 3.8.3 64-bit (conda)",
   "metadata": {
    "interpreter": {
     "hash": "b3ba2566441a7c06988d0923437866b63cedc61552a5af99d1f4fb67d367b25f"
    }
   }
  }
 },
 "nbformat": 4,
 "nbformat_minor": 2
}